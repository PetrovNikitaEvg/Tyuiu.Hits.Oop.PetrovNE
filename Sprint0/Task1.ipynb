{
 "cells": [
  {
   "cell_type": "markdown",
   "metadata": {},
   "source": [
    "<h1 style=\"color:DodgerBlue\">Основные понятия и концепции ООП</h1>\n"
   ]
  },
  {
   "cell_type": "markdown",
   "metadata": {},
   "source": [
    "<h2 style=\"color:DodgerBlue\">1. Классы и Объекты</h2>\n"
   ]
  },
  {
   "cell_type": "markdown",
   "metadata": {},
   "source": [
    "<h4 style=\"color:Red\">Задание:</h4>\n",
    "\n",
    "----\n",
    "\n",
    "Ниже в блоке по примеру создайте класс Animal\n",
    "\n"
   ]
  },
  {
   "cell_type": "code",
   "execution_count": null,
   "metadata": {
    "dotnet_interactive": {
     "language": "csharp"
    },
    "polyglot_notebook": {
     "kernelName": "csharp"
    }
   },
   "outputs": [],
   "source": [
    "class Animal(){}\n",
    "Animal Dog = new Animal();"
   ]
  },
  {
   "cell_type": "markdown",
   "metadata": {},
   "source": [
    "<h4 style=\"color:Red\">Задание:</h4>\n",
    "\n",
    "----\n",
    "\n",
    "<h2 style=\"color:DodgerBlue\">2. Инкапсуляция </h2>\n",
    "\n",
    "\n",
    "Ниже в блоке по примеру создайте класс Animal и реализуйте инкапсуляцию "
   ]
  },
  {
   "cell_type": "code",
   "execution_count": 3,
   "metadata": {
    "dotnet_interactive": {
     "language": "csharp"
    },
    "polyglot_notebook": {
     "kernelName": "csharp"
    }
   },
   "outputs": [],
   "source": [
    "class Animal\n",
    "{\n",
    "    private string color;\n",
    "    public string Color\n",
    "    {\n",
    "        get {return color;}\n",
    "        set {color = value;}\n",
    "    }\n",
    "\n",
    "    public void Action()\n",
    "    {\n",
    "        Console.WriteLine(\"Your animal is sleeping.\");\n",
    "    }\n",
    "}\n",
    "\n",
    "Animal Archibald = new Animal(); // Рождение арчибальда и присвоение его к категории организмов - животные (класс Animal)\n",
    "Archibald.Color = \"Голубой.\"; // Присвоение черты внешности - цвет оперенья - Голубой\n",
    "Archibald.Action(); // Чем занимается арчибальд - спит\n",
    "Console.WriteLine(Archibald.Color); // Вывод цвета оперенья"
   ]
  },
  {
   "cell_type": "markdown",
   "metadata": {},
   "source": [
    "<h4 style=\"color:Red\">Задание:</h4>\n",
    "\n",
    "----\n",
    "\n",
    "<h2 style=\"color:DodgerBlue\">3. Наследование</h2>\n",
    "\n",
    "\n",
    "Ниже в блоке по примеру создайте класс Animal и реализуйте наследование "
   ]
  },
  {
   "cell_type": "code",
   "execution_count": 6,
   "metadata": {
    "dotnet_interactive": {
     "language": "csharp"
    },
    "polyglot_notebook": {
     "kernelName": "csharp"
    }
   },
   "outputs": [],
   "source": [
    "class Animal\n",
    "{\n",
    "    private string color;\n",
    "    public string Color\n",
    "    {\n",
    "        get {return color;}\n",
    "        set {color = value;}\n",
    "    }\n",
    "\n",
    "    public void Action()\n",
    "    {\n",
    "        Console.WriteLine(\"Your animal is sleeping.\");\n",
    "    }\n",
    "}\n",
    "\n",
    "class Bird: Animal{}\n",
    "\n",
    "Animal MyAnimal = new Animal(); \n",
    "Bird Archibald = new Bird();\n",
    "\n",
    "MyAnimal.Color = \"Рыжий.\";  // MyAnimal\n",
    "MyAnimal.Action(); \n",
    "Console.WriteLine(MyAnimal.Color); \n",
    "\n",
    "Archibald.Color = \"Голубой.\"; // Archibald\n",
    "Archibald.Action(); \n",
    "Console.WriteLine(Archibald.Color); "
   ]
  },
  {
   "cell_type": "markdown",
   "metadata": {},
   "source": [
    "<h2 style=\"color:DodgerBlue\">4. Полиморфизм</h2>"
   ]
  },
  {
   "cell_type": "markdown",
   "metadata": {},
   "source": [
    "<h4 style=\"color:Red\">Задание:</h4>\n",
    "\n",
    "----\n",
    "\n",
    "Ниже в блоке по примеру создайте класс Animal и реализуйте полиморфизм "
   ]
  },
  {
   "cell_type": "code",
   "execution_count": 8,
   "metadata": {
    "dotnet_interactive": {
     "language": "csharp"
    },
    "polyglot_notebook": {
     "kernelName": "csharp"
    }
   },
   "outputs": [],
   "source": [
    "class Animal\n",
    "{\n",
    "    public virtual void Action()\n",
    "    {\n",
    "        Console.WriteLine(\"Your animal is sleeping.\");\n",
    "    }\n",
    "}\n",
    "\n",
    "class Bird: Animal\n",
    "{\n",
    "    public override void Action()\n",
    "    {\n",
    "        Console.WriteLine(\"Your bird is birding\");\n",
    "    }\n",
    "}\n",
    "\n",
    "Animal MyAnimal = new Animal(); \n",
    "Bird MyCoolBird = new Bird();\n",
    "\n",
    "MyAnimal.Action();\n",
    "MyCoolBird.Action();\n"
   ]
  },
  {
   "cell_type": "markdown",
   "metadata": {},
   "source": [
    "<h2 style=\"color:DodgerBlue\">5. Абстракция</h2>"
   ]
  },
  {
   "cell_type": "markdown",
   "metadata": {},
   "source": [
    "<h4 style=\"color:Red\">Задание:</h4>\n",
    "\n",
    "----\n",
    "\n",
    "Ниже в блоке по примеру создайте класс Animal и реализуйте абстракцию "
   ]
  },
  {
   "cell_type": "code",
   "execution_count": 11,
   "metadata": {
    "dotnet_interactive": {
     "language": "csharp"
    },
    "polyglot_notebook": {
     "kernelName": "csharp"
    }
   },
   "outputs": [],
   "source": [
    "abstract class Animal // обязателен метод в производном классе \n",
    "{\n",
    "\n",
    "    public abstract void Feed();\n",
    "\n",
    "    public virtual void Action()\n",
    "    {\n",
    "        Console.WriteLine(\"Your animal is sleeping.\");\n",
    "    }\n",
    "}\n",
    "\n",
    "class Bird: Animal\n",
    "{\n",
    "    public override void Feed()\n",
    "    {\n",
    "        Console.WriteLine(\"Животное покормили\");\n",
    "    }\n",
    "}\n",
    "\n",
    "Bird MyCoolBird = new Bird();\n",
    "\n",
    "MyCoolBird.Feed();\n",
    "MyCoolBird.Action();"
   ]
  },
  {
   "cell_type": "markdown",
   "metadata": {},
   "source": [
    "<h2 style=\"color:DodgerBlue\">6. Ассоциация (Композиция и Агрегация)</h2>\n"
   ]
  },
  {
   "cell_type": "markdown",
   "metadata": {},
   "source": [
    "<h4 style=\"color:Red\">Задание:</h4>\n",
    "\n",
    "----\n",
    "\n",
    "Ниже в блоке по примеру создайте класс Animal и реализуйте композицию "
   ]
  },
  {
   "cell_type": "code",
   "execution_count": 14,
   "metadata": {
    "dotnet_interactive": {
     "language": "csharp"
    },
    "polyglot_notebook": {
     "kernelName": "csharp"
    }
   },
   "outputs": [],
   "source": [
    "public class Heart\n",
    "{\n",
    "    public void HeartBeating() => Console.WriteLine(\"Сердце бьётся.\");\n",
    "    public void HeartIsNotBeating() => Console.WriteLine(\"Вы плохо слушаете ритм сердца.\");\n",
    "}\n",
    "\n",
    "public class Bear\n",
    "{\n",
    "    private Heart heart;\n",
    "    \n",
    "    public Bear (Heart heart)\n",
    "    {\n",
    "        this.heart = heart;  //-?\n",
    "    }\n",
    "\n",
    "\n",
    "public void Action()\n",
    "{\n",
    "    heart.HeartBeating();\n",
    "    Console.WriteLine(\"Медведь здоров\");\n",
    "    \n",
    "    heart.HeartIsNotBeating();\n",
    "}\n",
    "}\n",
    "\n",
    "Heart BearHeart = new Heart();\n",
    "Bear Bob = new Bear(BearHeart);\n",
    "\n",
    "Bob.Action();\n"
   ]
  },
  {
   "cell_type": "markdown",
   "metadata": {},
   "source": [
    "<h2 style=\"color:DodgerBlue\">7. Ассоциация (Композиция и Агрегация)</h2>"
   ]
  },
  {
   "cell_type": "markdown",
   "metadata": {},
   "source": [
    "<h4 style=\"color:Red\">Задание:</h4>\n",
    "\n",
    "----\n",
    "\n",
    "Ниже в блоке по примеру создайте класс Animal и реализуйте агрегацию "
   ]
  },
  {
   "cell_type": "code",
   "execution_count": 17,
   "metadata": {
    "dotnet_interactive": {
     "language": "csharp"
    },
    "polyglot_notebook": {
     "kernelName": "csharp"
    }
   },
   "outputs": [],
   "source": [
    "abstract class Animal\n",
    "{\n",
    "    public abstract void Action();\n",
    "}\n",
    "\n",
    "class Bear : Animal\n",
    "{\n",
    "    private Human human;\n",
    "    \n",
    "    public Bear(Human human)\n",
    "    {\n",
    "        this.human = human;\n",
    "    }\n",
    "\n",
    "    public override void Action ()\n",
    "    {\n",
    "        Console.WriteLine(\"Медведь купается.\");\n",
    "    }\n",
    "}\n",
    "\n",
    "class Human\n",
    "{\n",
    "    public string Name {get; set;}\n",
    "\n",
    "    public Human(string name)\n",
    "    {\n",
    "        Name = name;\n",
    "    }\n",
    "\n",
    "    public void Action (Animal animal)\n",
    "    {\n",
    "        Console.WriteLine($\"{Name} встретил медведя.\");\n",
    "    }\n",
    "}\n",
    "\n",
    "Human Alesha = new Human(\"Алёша\");\n",
    "Bear Bob = new Bear(Alesha);\n",
    "\n",
    "Bob.Action();\n",
    "Alesha.Action(Bob);\n"
   ]
  }
 ],
 "metadata": {
  "kernelspec": {
   "display_name": ".NET (C#)",
   "language": "C#",
   "name": ".net-csharp"
  },
  "polyglot_notebook": {
   "kernelInfo": {
    "defaultKernelName": "csharp",
    "items": [
     {
      "aliases": [],
      "languageName": "csharp",
      "name": "csharp"
     }
    ]
   }
  }
 },
 "nbformat": 4,
 "nbformat_minor": 2
}
