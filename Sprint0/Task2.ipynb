{
 "cells": [
  {
   "cell_type": "markdown",
   "metadata": {},
   "source": [
    "<h1 style=\"color:DodgerBlue\">Обзор базовых принципов и паттернов</h1>\n"
   ]
  },
  {
   "cell_type": "markdown",
   "metadata": {},
   "source": [
    "<h4 style=\"color:Red\">Задание:</h4>\n",
    "\n",
    "----\n",
    "\n",
    "Ниже в блоке реализуйте принцип  Single Responsibility Principle (Принцип единственной обязанности) на базе класса Animal"
   ]
  },
  {
   "cell_type": "code",
   "execution_count": 6,
   "metadata": {
    "dotnet_interactive": {
     "language": "csharp"
    },
    "polyglot_notebook": {
     "kernelName": "csharp"
    }
   },
   "outputs": [
    {
     "name": "stdout",
     "output_type": "stream",
     "text": [
      "Собака движется\n",
      "Собака сидит\n"
     ]
    }
   ],
   "source": [
    "public interface IMovement\n",
    "{\n",
    "    void Move();\n",
    "}\n",
    "\n",
    "public class Animal\n",
    "{\n",
    "    public void Move()\n",
    "    {\n",
    "        Console.WriteLine(\"Животное движется\");\n",
    "    }\n",
    "\n",
    "}\n",
    "\n",
    "public class Dog : Animal, IMovement\n",
    "{\n",
    "    public void DogMove ()\n",
    "    {\n",
    "        Console.WriteLine(\"Собака движется\");\n",
    "    }\n",
    "\n",
    "    public void DogSit ()\n",
    "    {\n",
    "        Console.WriteLine(\"Собака сидит\");\n",
    "    }\n",
    "}\n",
    "\n",
    "Dog Bob = new Dog();\n",
    "Bob.DogMove(); Bob.DogSit();"
   ]
  },
  {
   "cell_type": "markdown",
   "metadata": {},
   "source": [
    "<h4 style=\"color:Red\">Задание:</h4>\n",
    "\n",
    "----\n",
    "\n",
    "Ниже в блоке реализуйте принцип  Open/Closed Principle (Принцип открытости/закрытости) на базе класса Animal"
   ]
  },
  {
   "cell_type": "code",
   "execution_count": 7,
   "metadata": {
    "dotnet_interactive": {
     "language": "csharp"
    },
    "polyglot_notebook": {
     "kernelName": "csharp"
    }
   },
   "outputs": [
    {
     "name": "stdout",
     "output_type": "stream",
     "text": [
      "Собака движется\n",
      "Собака сидит\n"
     ]
    }
   ],
   "source": [
    "public interface IMovement\n",
    "{\n",
    "    void Move();\n",
    "}\n",
    "\n",
    "public class Animal: IMovement\n",
    "{\n",
    "    public virtual void Move()\n",
    "    {\n",
    "        Console.WriteLine(\"Животное движется\");\n",
    "    }\n",
    "\n",
    "}\n",
    "\n",
    "public class Dog : IMovement\n",
    "{\n",
    "    public void Move ()\n",
    "    {\n",
    "        Console.WriteLine(\"Собака движется\");\n",
    "    }\n",
    "\n",
    "    public void Sit ()\n",
    "    {\n",
    "        Console.WriteLine(\"Собака сидит\");\n",
    "    }\n",
    "}\n",
    "\n",
    "Dog Bob = new Dog();\n",
    "Bob.Move(); Bob.Sit();"
   ]
  },
  {
   "cell_type": "markdown",
   "metadata": {},
   "source": [
    "<h4 style=\"color:Red\">Задание:</h4>\n",
    "\n",
    "----\n",
    "\n",
    "Ниже в блоке реализуйте принцип Liskov Substitution Principle (Принцип подстановки Лисков) на базе класса Animal"
   ]
  },
  {
   "cell_type": "code",
   "execution_count": 10,
   "metadata": {
    "dotnet_interactive": {
     "language": "csharp"
    },
    "polyglot_notebook": {
     "kernelName": "csharp"
    }
   },
   "outputs": [],
   "source": [
    "public interface IMoveBird\n",
    "{\n",
    "    void Fly(string Name);\n",
    "}\n",
    "\n",
    "public interface IMoveFish\n",
    "{\n",
    "    void Swim();\n",
    "}\n",
    "\n",
    "public class Fish : IMoveFish\n",
    "{\n",
    "    public void Swim ()\n",
    "    {\n",
    "        Console.WriteLine(\"Рыба плывёт.\");\n",
    "    }\n",
    "\n",
    "\n",
    "    public void Drown ()\n",
    "    {\n",
    "        Console.WriteLine(\"Ваша рыба как-то утонула.\");\n",
    "    }\n",
    "}\n",
    "\n",
    "public class Bird : IMoveBird\n",
    "{\n",
    "    public void Fly(string Name)\n",
    "    {\n",
    "        Console.WriteLine($\"{Name} летит.\");\n",
    "    }\n",
    "\n",
    "\n",
    "    public void Sit (string Name)\n",
    "    {\n",
    "        Console.WriteLine($\"{Name} сидит.\");\n",
    "    }\n",
    "}\n",
    "\n",
    "Fish Blob = new Fish(); \n",
    "Bird Popo = new Bird();\n",
    "string BirdName = \"Popo\";\n",
    "Blob.Swim(); Blob.Drown();\n",
    "Popo.Fly(BirdName); Popo.Sit(BirdName);"
   ]
  },
  {
   "cell_type": "markdown",
   "metadata": {},
   "source": [
    "<h4 style=\"color:Red\">Задание:</h4>\n",
    "\n",
    "----\n",
    "\n",
    "Ниже в блоке реализуйте принцип Interface Segregation Principle (Принцип разделения интерфейсов) на базе класса Animal"
   ]
  },
  {
   "cell_type": "code",
   "execution_count": 11,
   "metadata": {
    "dotnet_interactive": {
     "language": "csharp"
    },
    "polyglot_notebook": {
     "kernelName": "csharp"
    }
   },
   "outputs": [],
   "source": [
    "public interface IAnimal\n",
    "{\n",
    "    public void CheckLife();\n",
    "}\n",
    "\n",
    "public interface ICat\n",
    "{\n",
    "    public void Meowing();\n",
    "}\n",
    "\n",
    "public interface IDog\n",
    "{\n",
    "    public void Bark();\n",
    "}\n",
    "\n",
    "public class Cat : IAnimal, ICat   \n",
    "{\n",
    "    public void CheckLife () \n",
    "    {\n",
    "        Console.WriteLine(\"Cat still has 9 lifes\");\n",
    "    }\n",
    "\n",
    "    public void Meowing()\n",
    "    {\n",
    "        Console.WriteLine(\"Cat is meowing very loudly today\");\n",
    "    }\n",
    "}\n",
    "\n",
    "public class Dog : IAnimal, IDog\n",
    "{\n",
    "\n",
    "    public void CheckLife() \n",
    "    {\n",
    "        Console.WriteLine(\"Dog is alive.\");\n",
    "    }\n",
    "    \n",
    "    public void Bark()\n",
    "    {\n",
    "        {Console.WriteLine(\"Dog's bark sound crazy today...\");}\n",
    "    }\n",
    "}\n",
    "\n",
    "\n",
    "Cat Bober = new Cat(); Dog Rock = new Dog();\n",
    "Bober.CheckLife(); Bober.Meowing();\n",
    "Rock.CheckLife(); Rock.Bark();"
   ]
  },
  {
   "cell_type": "markdown",
   "metadata": {},
   "source": [
    "<h4 style=\"color:Red\">Задание:</h4>\n",
    "\n",
    "----\n",
    "\n",
    "Ниже в блоке реализуйте принцип  Dependency Inversion Principle (Принцип инверсии зависимостей) на базе класса Animal"
   ]
  },
  {
   "cell_type": "code",
   "execution_count": 20,
   "metadata": {
    "dotnet_interactive": {
     "language": "csharp"
    },
    "polyglot_notebook": {
     "kernelName": "csharp"
    }
   },
   "outputs": [],
   "source": [
    "public interface IHeart\n",
    "{\n",
    "    void CheckHeart();\n",
    "}\n",
    "\n",
    "public class Life : IHeart\n",
    "{\n",
    "    public void CheckHeart(){Console.WriteLine(\"Сердце бьётся - животное живёт\");}\n",
    "}\n",
    "\n",
    "public class Animal\n",
    "{\n",
    "    private IHeart _heart;\n",
    "    \n",
    "    public Animal(IHeart heart)\n",
    "    {\n",
    "        _heart = heart;\n",
    "    }\n",
    "\n",
    "    public void CheckHeart()\n",
    "    {\n",
    "        _heart.CheckHeart();\n",
    "    }\n",
    "}\n",
    "\n",
    "Life animal = new Life();\n",
    "Animal Bobik = new Animal(animal);\n",
    "Bobik.CheckHeart();"
   ]
  }
 ],
 "metadata": {
  "kernelspec": {
   "display_name": ".NET (C#)",
   "language": "C#",
   "name": ".net-csharp"
  },
  "polyglot_notebook": {
   "kernelInfo": {
    "defaultKernelName": "csharp",
    "items": [
     {
      "aliases": [],
      "languageName": "csharp",
      "name": "csharp"
     }
    ]
   }
  }
 },
 "nbformat": 4,
 "nbformat_minor": 2
}
