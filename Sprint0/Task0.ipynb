{
 "cells": [
  {
   "cell_type": "markdown",
   "metadata": {},
   "source": [
    "## <p style=\"color: red\"> **Задание:** </p> \n",
    "\n",
    "----\n",
    "\n",
    "### **Ниже в блоке (Code) решите задачу**\n",
    "Дан целочисленный массив numbers со следующими элементами { 5, 8, 1, 3, 9, 6, 7, 2 }, нужно выполнить следующие операции:\n",
    "\n",
    "1. Найти минимальное и максимальное значения в массиве.\n",
    "2. Найти сумму всех элементов массива.\n",
    "3. Найти среднее арифметическое всех элементов массива.\n",
    "4. Отсортировать массив в порядке возрастания.\n",
    "5. Проверить, содержит ли массив определенное число.\n"
   ]
  },
  {
   "cell_type": "code",
   "execution_count": 43,
   "metadata": {
    "dotnet_interactive": {
     "language": "csharp"
    },
    "polyglot_notebook": {
     "kernelName": "csharp"
    },
    "vscode": {
     "languageId": "polyglot-notebook"
    }
   },
   "outputs": [
    {
     "name": "stdout",
     "output_type": "stream",
     "text": [
      "1. \n",
      "Min: 1, Max: 9\n",
      "2. \n",
      "Sum: 41\n",
      "3. \n",
      "Average: 5.125\n",
      "4. \n",
      "Sorted array: 123567895. \n",
      "IsInArray: 0 NOT in array.\n"
     ]
    }
   ],
   "source": [
    "public int[] BubbleSort(int[] array)\n",
    "{\n",
    "    int var;\n",
    "    for (int i = 0; i < array.Length; i++)\n",
    "    {\n",
    "        for (int j = i + 1; j < array.Length; j++)\n",
    "        {\n",
    "            if (array[i] > array[j])\n",
    "            {\n",
    "                var = array[i];\n",
    "                array[i] = array[j];\n",
    "                array[j] = var;\n",
    "            } \n",
    "        }\n",
    "    }\n",
    "    return array;\n",
    "}\n",
    "\n",
    "int[] Numbers = {5, 8, 1, 3, 9, 6, 7, 2};\n",
    "BubbleSort(Numbers); // sorted array\n",
    "int MyNum = 0;\n",
    "Boolean IsInArray = false;\n",
    "\n",
    "Console.WriteLine($\"1. \\nMin: {Numbers.Min()}, Max: {Numbers.Max()}\"); // Get min and max from array\n",
    "Console.WriteLine($\"2. \\nSum: {Numbers.Sum()}\");\n",
    "Console.WriteLine($\"3. \\nAverage: {Convert.ToDouble(Numbers.Sum())/Numbers.Length}\");\n",
    "Console.Write(\"4. \\nSorted array: \");\n",
    "\n",
    "for (int i = 0; i < Numbers.Length; i++)\n",
    "{\n",
    "    Console.WriteLine(Numbers[i]);\n",
    "}\n",
    "\n",
    "for (int i = 0; i > Numbers.Length; i++)\n",
    "{\n",
    "    if (Numbers[i] == MyNum && !IsInArray)\n",
    "    {\n",
    "        IsInArray = true;\n",
    "        break;\n",
    "    }\n",
    "}\n",
    "if (IsInArray){Console.WriteLine($\"5. \\nIsInArray: {MyNum} IN array\");}\n",
    "else {Console.WriteLine($\"5. \\nIsInArray: {MyNum} NOT in array.\");}\n",
    "\n",
    "\n"
   ]
  }
 ],
 "metadata": {
  "kernelspec": {
   "display_name": ".NET (C#)",
   "language": "C#",
   "name": ".net-csharp"
  },
  "language_info": {
   "name": "csharp"
  },
  "polyglot_notebook": {
   "kernelInfo": {
    "defaultKernelName": "csharp",
    "items": [
     {
      "aliases": [],
      "name": "csharp"
     }
    ]
   }
  }
 },
 "nbformat": 4,
 "nbformat_minor": 2
}
