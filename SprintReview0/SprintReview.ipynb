{
 "cells": [
  {
   "cell_type": "markdown",
   "metadata": {},
   "source": [
    "# <p style=\"color: RED\"> **Спринт ревью #0**</p>\n",
    "## Задачи:\n",
    "### Разработать проект для уравления растениями в саду, используя основные концепции объективно-ориентированного программирования (ООП) в C# \n",
    "### Вам нужно создать классы, которые будут описывать разные тиы растений, исользуя аследование и полиформизм "
   ]
  },
  {
   "cell_type": "code",
   "execution_count": null,
   "metadata": {},
   "outputs": [],
   "source": [
    "public class Plant\n",
    "{\n",
    "   private string _name;\n",
    "    public string Name \n",
    "    {\n",
    "        get {return _name;} \n",
    "        set{_name = value;}\n",
    "    }\n",
    "    private string _type;\n",
    "    public string Type \n",
    "    {\n",
    "        get {return _type;} \n",
    "        set{_type = value;}\n",
    "    }\n",
    "\n",
    "    public static float Height;\n",
    "\n",
    "\n",
    "    public void Цветение()\n",
    "    {\n",
    "        Console.WriteLine($\"Растение {Name} цветет\");\n",
    "    }\n",
    "\n",
    "    public void Растёт(float Рост)\n",
    "    {\n",
    "        Console.WriteLine($\"Рост растения увеличен! {Height} -> {Height + рост}\");\n",
    "        Height = Height + рост;\n",
    "    }\n",
    "\n",
    "    public Plant (string name, string type)\n",
    "    {\n",
    "        Name = name;\n",
    "        type = type;\n",
    "    }\n",
    "}\n",
    "\n",
    "public class Flower : Plant\n",
    "{\n",
    "\n",
    "}\n",
    "\n",
    "Console.WriteLine(\"test\")"
   ]
  }
 ],
 "metadata": {
  "language_info": {
   "name": "csharp"
  }
 },
 "nbformat": 4,
 "nbformat_minor": 2
}
