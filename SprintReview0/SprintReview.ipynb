{
 "cells": [
  {
   "cell_type": "markdown",
   "metadata": {},
   "source": [
    "# <p style=\"color: RED\"> **Спринт ревью #0**</p>\n",
    "## Задачи:\n",
    "### Разработать проект для уравления растениями в саду, используя основные концепции объективно-ориентированного программирования (ООП) в C# \n",
    "### Вам нужно создать классы, которые будут описывать разные тиы растений, исользуя аследование и полиформизм "
   ]
  },
  {
   "cell_type": "code",
   "execution_count": 66,
   "metadata": {
    "dotnet_interactive": {
     "language": "csharp"
    },
    "polyglot_notebook": {
     "kernelName": "csharp"
    },
    "vscode": {
     "languageId": "polyglot-notebook"
    }
   },
   "outputs": [
    {
     "name": "stdout",
     "output_type": "stream",
     "text": [
      "Всё про мой цветок\n",
      "ЦВЕТОК Ромашка цветет и у него 96 лепестков\n",
      "Рост растения Цветок Ромашка увеличен на 123! 77 -> 200\n",
      "ЦВЕТОК Ромашка начинает увядать. Его рост 200, количетсво лепестков 96 \n",
      "\n",
      "Всё про моё дерево\n",
      "Дерево Ёлка цветет, ему 10 и у него ЛИСТВЕННЫЙ тип листвы\n",
      "Рост растения Цветок Ёлка увеличен на 10! 97 -> 107\n",
      "Возраст дерева увеличен на 15! 10 -> 25\n"
     ]
    }
   ],
   "source": [
    "public class Plant\n",
    "{\n",
    "    //Atributes\n",
    "    public Random rnd = new Random();\n",
    "    private string _name;\n",
    "    public string Name \n",
    "    {\n",
    "        get {return _name;} \n",
    "        set{_name = value;}\n",
    "    }\n",
    "    public static string Type;\n",
    "    public static float Height;\n",
    "\n",
    "    //Methods\n",
    "    public virtual void Цветение()\n",
    "    {\n",
    "        Console.WriteLine($\"Растение {Name} цветет\");\n",
    "    }\n",
    "\n",
    "    public void Растёт(float Рост)\n",
    "    {\n",
    "        Console.WriteLine($\"Рост растения {Type} {Name} увеличен на {Рост}! {Height} -> {Height + Рост}\");\n",
    "        Height += Рост;\n",
    "    }\n",
    "\n",
    "    public Plant (string name)\n",
    "    {\n",
    "        Name = name;\n",
    "        Height = rnd.Next(100);\n",
    "    }\n",
    "}\n",
    "\n",
    "public class Flower : Plant\n",
    "{\n",
    "    private string _color;\n",
    "    public string Color \n",
    "    {\n",
    "        get {return _color;} \n",
    "        set{_color = value;}\n",
    "    }\n",
    "    public static int LepestkiCount;\n",
    "\n",
    "     public override void Цветение()\n",
    "    {\n",
    "        Console.WriteLine($\"ЦВЕТОК {Name} цветет и у него {LepestkiCount} лепестков\");\n",
    "    }\n",
    "\n",
    "    public void Увядать()\n",
    "    {\n",
    "        Console.WriteLine($\"ЦВЕТОК {Name} начинает увядать. Его рост {Height}, количетсво лепестков {LepestkiCount} \");\n",
    "    }\n",
    "\n",
    "        public Flower (string name): base(name)\n",
    "    {\n",
    "        Name = name;\n",
    "        Type = \"Цветок\";\n",
    "        LepestkiCount = rnd.Next(100);\n",
    "    }\n",
    "}\n",
    "\n",
    "public class Tree : Plant\n",
    "{\n",
    "    private string _liststype; // Хвойные, лиственные\n",
    "    public string ListsType \n",
    "    {\n",
    "        get {return _liststype;} \n",
    "        set{_liststype = value;}\n",
    "    }\n",
    "    private int _age;\n",
    "    public int Age \n",
    "    {\n",
    "        get {return _age;} \n",
    "        set\n",
    "        {\n",
    "            if (value >= 0)\n",
    "                _age = value;\n",
    "            else\n",
    "                throw new ArgumentOutOfRangeException(\"Возраст не должен быть меньше нуля\");\n",
    "        }\n",
    "    }\n",
    "\n",
    "     public override void Цветение()\n",
    "    {\n",
    "        Console.WriteLine($\"Дерево {Name} цветет, ему {Age} и у него {ListsType} тип листвы\");\n",
    "    }\n",
    "\n",
    "    public void Вырастить (int Годы)\n",
    "    {\n",
    "        Console.WriteLine($\"Возраст дерева увеличен на {Годы}! {Age} -> {Age + Годы}\");\n",
    "        Age += Годы;\n",
    "    }\n",
    "\n",
    "        public Tree (string name, string liststype): base(name)\n",
    "    {\n",
    "        Name = name;\n",
    "        ListsType = liststype;\n",
    "        Age = rnd.Next(100);\n",
    "        Type = \"Цветок\";\n",
    "    }\n",
    "}\n",
    "\n",
    "Flower flower = new Flower(\"Ромашка\");\n",
    "Console.WriteLine(\"Всё про мой цветок\");\n",
    "flower.Цветение();\n",
    "flower.Растёт(123);\n",
    "flower.Увядать();\n",
    "\n",
    "Console.WriteLine(\"\\nВсё про моё дерево\");\n",
    "Tree tree = new Tree(\"Ёлка\", \"ЛИСТВЕННЫЙ\");\n",
    "tree.Цветение();\n",
    "tree.Растёт(10);\n",
    "tree.Вырастить(15);\n"
   ]
  }
 ],
 "metadata": {
  "kernelspec": {
   "display_name": ".NET (C#)",
   "language": "C#",
   "name": ".net-csharp"
  },
  "language_info": {
   "name": "csharp"
  },
  "polyglot_notebook": {
   "kernelInfo": {
    "defaultKernelName": "csharp",
    "items": [
     {
      "aliases": [],
      "name": "csharp"
     }
    ]
   }
  }
 },
 "nbformat": 4,
 "nbformat_minor": 2
}
