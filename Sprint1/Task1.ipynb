{
 "cells": [
  {
   "cell_type": "markdown",
   "metadata": {},
   "source": [
    "<h1 style=\"color:DodgerBlue\">Структура и объявление класса, через: свойства, геттеры и сеттеры</h1>"
   ]
  },
  {
   "cell_type": "markdown",
   "metadata": {},
   "source": [
    "<h4 style=\"color:Red\">Задание:</h4>\n",
    "\n",
    "----\n",
    "\n",
    "Ниже в блоке по примеру создайте базовый класс Animal и производные классы (2-3 например Dog, Cat и так далее) реализуйте структуру и объявление класса, включая свойства, геттеры и сеттеры, а также статические и обычными атрибуты и метода класса"
   ]
  },
  {
   "cell_type": "code",
   "execution_count": 4,
   "metadata": {
    "dotnet_interactive": {
     "language": "csharp"
    },
    "polyglot_notebook": {
     "kernelName": "csharp"
    }
   },
   "outputs": [
    {
     "name": "stdout",
     "output_type": "stream",
     "text": [
      "Всего животных 3\n",
      "Имя Птицы летит. И ей всего лишь 4\n",
      "Имя Кота идёт. И ему всего лишь 1\n"
     ]
    }
   ],
   "source": [
    "public interface IAnimal\n",
    "{\n",
    "    void move(); //cat walk bird fly duck swim\n",
    "}\n",
    "\n",
    "public class Animal \n",
    "{\n",
    "    private int Age;\n",
    "    public int age\n",
    "    {\n",
    "        get { return Age; }\n",
    "        set\n",
    "        {\n",
    "            if (value >= 0)\n",
    "                Age = value;\n",
    "            else\n",
    "                throw new ArgumentOutOfRangeException(\"Возраст не может быть отрицательный!\");\n",
    "        }\n",
    "    }\n",
    "\n",
    "    private string Name;\n",
    "    public string name\n",
    "    {\n",
    "         get { return Name; }\n",
    "         set { Name = value; }\n",
    "    }\n",
    "\n",
    "    public static int AnimalCount\n",
    "    {get; private set;} // задать кол-во только внутри класса\n",
    "\n",
    "     public Animal(string _name, int _age)\n",
    "    {\n",
    "        AnimalCount++;\n",
    "        name = _name;\n",
    "        age = _age;\n",
    "    }\n",
    "\n",
    "    public void move()\n",
    "    {\n",
    "        Console.WriteLine($\"{name} движется.\");\n",
    "    }\n",
    "\n",
    "    public void GetCount() {Console.WriteLine(\"Всего животных \" + AnimalCount);}\n",
    "}\n",
    "\n",
    "public class Bird : Animal, IAnimal\n",
    "{\n",
    "    public void move()\n",
    "    {\n",
    "        Console.WriteLine($\"{name} летит. И ей всего лишь {age}\");\n",
    "    }\n",
    "    \n",
    "    public Bird (string _name, int _age) : base (_name, _age)\n",
    "    {\n",
    "        name = _name;\n",
    "        age = _age;\n",
    "    }\n",
    "}\n",
    "\n",
    "public class Cat : Animal, IAnimal\n",
    "{\n",
    "    public void move()\n",
    "    {\n",
    "        Console.WriteLine($\"{name} идёт. И ему всего лишь {age}\");\n",
    "    }\n",
    "    \n",
    "    public Cat (string _name, int _age) : base (_name, _age)\n",
    "    {\n",
    "        name = _name;\n",
    "        age = _age;\n",
    "    }\n",
    "}\n",
    "Animal animal = new Animal(\"Имя животного\", 123); //+1\n",
    "Bird bird = new Bird(\"Имя Птицы\", 4); //+2\n",
    "Cat cat = new Cat(\"Имя Кота\", 1); //+3\n",
    "\n",
    "animal.GetCount(); //=3\n",
    "\n",
    "bird.move();\n",
    "cat.move();\n"
   ]
  }
 ],
 "metadata": {
  "kernelspec": {
   "display_name": ".NET (C#)",
   "language": "C#",
   "name": ".net-csharp"
  },
  "polyglot_notebook": {
   "kernelInfo": {
    "defaultKernelName": "csharp",
    "items": [
     {
      "aliases": [],
      "languageName": "csharp",
      "name": "csharp"
     }
    ]
   }
  }
 },
 "nbformat": 4,
 "nbformat_minor": 2
}
