{
 "cells": [
  {
   "cell_type": "markdown",
   "metadata": {},
   "source": [
    "<h1 style=\"color:DodgerBlue\">Структура и объявление класса</h1>\n"
   ]
  },
  {
   "cell_type": "markdown",
   "metadata": {},
   "source": [
    "<h4 style=\"color:Red\">Задание:</h4>\n",
    "\n",
    "----\n",
    "\n",
    "Ниже в блоке по примеру создайте базовый класс Animal и реализуйте структуру класса, атрибуты, методы, модификаторы доступа, статические члены, конструкторы, интерфейсы и состояние класса. "
   ]
  },
  {
   "cell_type": "code",
   "execution_count": 2,
   "metadata": {
    "dotnet_interactive": {
     "language": "csharp"
    },
    "polyglot_notebook": {
     "kernelName": "csharp"
    }
   },
   "outputs": [],
   "source": [
    "public interface IAnimal\n",
    "{\n",
    "    void Breath(string name);\n",
    "}\n",
    "\n",
    "public class Animal : IAnimal\n",
    "{\n",
    "    public string Name;\n",
    "\n",
    "    protected Boolean IsHealth {get; set;}\n",
    "\n",
    "    public static int AnimalCount {get; private set;}\n",
    "    \n",
    "    public void Breath (string name)\n",
    "    {\n",
    "        name = Name;\n",
    "        Console.WriteLine(name + \"is alive\");\n",
    "    }\n",
    "\n",
    "    public Animal (string name, Boolean ishealth)\n",
    "    {\n",
    "        AnimalCount++;\n",
    "        Name = name;\n",
    "        IsHealth = ishealth;\n",
    "    }\n",
    "}\n",
    "\n",
    "public class Bear : Animal, IAnimal\n",
    "{\n",
    "    public Bear (String name, Boolean ishealth) : base (name, ishealth)\n",
    "    {\n",
    "        Name = name;\n",
    "        IsHealth = ishealth;\n",
    "    } \n",
    "\n",
    "    public void Breath ()\n",
    "    {\n",
    "        Console.WriteLine(Name + \"is breathing\");\n",
    "    }\n",
    "}"
   ]
  }
 ],
 "metadata": {
  "kernelspec": {
   "display_name": ".NET (C#)",
   "language": "C#",
   "name": ".net-csharp"
  },
  "polyglot_notebook": {
   "kernelInfo": {
    "defaultKernelName": "csharp",
    "items": [
     {
      "aliases": [],
      "languageName": "csharp",
      "name": "csharp"
     }
    ]
   }
  }
 },
 "nbformat": 4,
 "nbformat_minor": 2
}
