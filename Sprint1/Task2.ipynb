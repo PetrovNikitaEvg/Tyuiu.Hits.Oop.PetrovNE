{
 "cells": [
  {
   "cell_type": "markdown",
   "metadata": {},
   "source": [
    "<h1 style=\"color:DodgerBlue\">Создание экземпляров классов (объектов) и взаимодействие объектов между собой</h1>"
   ]
  },
  {
   "cell_type": "markdown",
   "metadata": {},
   "source": [
    "<h4 style=\"color:Red\">Задание:</h4>\n",
    "\n",
    "----\n",
    "\n",
    "Ниже в блоке по примеру создайте базовый класс Animal и производные классы (2-3 например Dog, Cat и так далее) реализуйте структуру и объявление класса, включая свойства, геттеры и сеттеры, а также статические и обычными атрибуты и метода класса с реализацией взаимодействия между объектами."
   ]
  },
  {
   "cell_type": "code",
   "execution_count": 4,
   "metadata": {
    "dotnet_interactive": {
     "language": "csharp"
    },
    "polyglot_notebook": {
     "kernelName": "csharp"
    }
   },
   "outputs": [
    {
     "name": "stdout",
     "output_type": "stream",
     "text": [
      "Птица Кеша по кличке 'Карасик' красный цвета и ей всего лишь 7 летит на юг с друзьями птицами\n",
      "Медведь Умка который имеет белый цвет и ему 6 крадется в берлогу и его кличка Бунтарь\n",
      "Всего животных 3\n"
     ]
    }
   ],
   "source": [
    "public interface IAnimal\n",
    "{\n",
    "    void Move();\n",
    "}\n",
    "\n",
    "public class Animal : IAnimal\n",
    "{\n",
    "    private string _name;\n",
    "    private string _color;\n",
    "    private int _age;\n",
    "    protected string Klichka;\n",
    "    public static int AnimalCount {get;private set;}\n",
    "\n",
    "    public string Name\n",
    "    {\n",
    "        get {return _name;}\n",
    "        set {_name = value;}\n",
    "    }\n",
    "\n",
    "    public string Color\n",
    "    {\n",
    "        get {return _color;}\n",
    "        set {_color = value;}\n",
    "    }\n",
    "\n",
    "     public int Age\n",
    "    {\n",
    "        get { return _age; }\n",
    "        set\n",
    "        {\n",
    "            if (value >= 0)\n",
    "                _age = value;\n",
    "            else\n",
    "                throw new ArgumentOutOfRangeException(\"Возраст не может быть меньше нуля\");\n",
    "        }\n",
    "    }\n",
    "\n",
    "    public Animal(string name, string color, int age) // base\n",
    "    {\n",
    "        AnimalCount++;\n",
    "        Name = name;\n",
    "        Color = color;\n",
    "        Age = age;\n",
    "    }\n",
    "    \n",
    "    public void Move ()\n",
    "    {\n",
    "        Console.WriteLine(Name + \" движется на север\");\n",
    "    }\n",
    "\n",
    "    public void GetCount() {Console.WriteLine(\"Всего животных \" + AnimalCount);}\n",
    "}\n",
    "\n",
    "public class Bird : Animal, IAnimal\n",
    "{\n",
    "    public void Move ()\n",
    "    {\n",
    "        Console.WriteLine($\"Птица {Name} по кличке '{Klichka}' {Color} цвета и ей всего лишь {Age} летит на юг с друзьями птицами\");\n",
    "    }\n",
    "\n",
    "    public Bird (string name, string color, int age): base(name, color, age)\n",
    "    {\n",
    "        Name = name;\n",
    "        Color = color;\n",
    "        Age = age;\n",
    "        Klichka = \"Карасик\";\n",
    "    }\n",
    "}\n",
    "\n",
    "public class Bear : Animal, IAnimal\n",
    "{\n",
    "    public void Move ()\n",
    "    {\n",
    "        Console.WriteLine(\"Медведь \" + Name +  \" который имеет \" + Color + \" цвет и ему \" + Age + \" крадется в берлогу и его кличка \" + Klichka);\n",
    "    }\n",
    "\n",
    "    public Bear (string name, string color, int age): base(name, color, age)\n",
    "    {\n",
    "        Name = name;\n",
    "        Color = color;\n",
    "        Age = age;\n",
    "        Klichka = \"Бунтарь\";\n",
    "    }\n",
    "}\n",
    "\n",
    "Animal animal = new Animal(\"имя\", \"цвет\", 10);\n",
    "Bird bird = new Bird(\"Кеша\", \"красный\", 7);\n",
    "Bear bear = new Bear(\"Умка\", \"белый\", 6);\n",
    "\n",
    "bird.Move();\n",
    "bear.Move();\n",
    "\n",
    "animal.GetCount();\n"
   ]
  }
 ],
 "metadata": {
  "kernelspec": {
   "display_name": ".NET (C#)",
   "language": "C#",
   "name": ".net-csharp"
  },
  "polyglot_notebook": {
   "kernelInfo": {
    "defaultKernelName": "csharp",
    "items": [
     {
      "aliases": [],
      "languageName": "csharp",
      "name": "csharp"
     }
    ]
   }
  }
 },
 "nbformat": 4,
 "nbformat_minor": 2
}
